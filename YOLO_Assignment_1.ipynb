{
  "cells": [
    {
      "cell_type": "markdown",
      "source": [
        "**INSTRUCTIONS:**\n",
        "\n",
        "Go to File -> Save a Copy in Drive and edit this notebook in your copy\n",
        "\n",
        " Put all your doubts on Discord channel\n",
        "\n",
        "Do not plagiarise\n"
      ],
      "metadata": {
        "id": "j25rXTadrcIs"
      },
      "id": "j25rXTadrcIs"
    },
    {
      "cell_type": "code",
      "execution_count": 1,
      "id": "42f5e68e",
      "metadata": {
        "id": "42f5e68e"
      },
      "outputs": [],
      "source": [
        "import numpy as np"
      ]
    },
    {
      "cell_type": "markdown",
      "id": "2b209b50",
      "metadata": {
        "id": "2b209b50"
      },
      "source": [
        "Q1 Let x = np.arange(4, dtype=np.int64). Create an array of ones with the same shape and type as X."
      ]
    },
    {
      "cell_type": "code",
      "execution_count": 2,
      "id": "729dc9cd",
      "metadata": {
        "id": "729dc9cd",
        "outputId": "fc91cb70-8164-4a32-e15b-94bd381e5e32",
        "colab": {
          "base_uri": "https://localhost:8080/"
        }
      },
      "outputs": [
        {
          "output_type": "execute_result",
          "data": {
            "text/plain": [
              "array([1, 1, 1, 1])"
            ]
          },
          "metadata": {},
          "execution_count": 2
        }
      ],
      "source": [
        "x = np.arange(4, dtype=np.int64)\n",
        "np.ones_like(x)"
      ]
    },
    {
      "cell_type": "markdown",
      "id": "1b9ea803",
      "metadata": {
        "id": "1b9ea803"
      },
      "source": [
        "Q2 Let X = np.array([[1, 2], [3, 4]]). Convert it into a matrix."
      ]
    },
    {
      "cell_type": "code",
      "execution_count": 3,
      "id": "23e39b64",
      "metadata": {
        "id": "23e39b64"
      },
      "outputs": [],
      "source": [
        "X = np.array([[1, 2], [3, 4]])\n",
        "matrix = np.asmatrix(X)"
      ]
    },
    {
      "cell_type": "markdown",
      "id": "4c1fc004",
      "metadata": {
        "id": "4c1fc004"
      },
      "source": [
        "Q3 Create a 1-D array of 50 evenly spaced elements between 3. and 10., inclusive."
      ]
    },
    {
      "cell_type": "code",
      "execution_count": 4,
      "id": "9f0a47db",
      "metadata": {
        "id": "9f0a47db",
        "outputId": "60ee4946-ffdc-4d0e-bd69-efaea4054765",
        "colab": {
          "base_uri": "https://localhost:8080/"
        }
      },
      "outputs": [
        {
          "output_type": "execute_result",
          "data": {
            "text/plain": [
              "array([ 3.        ,  3.14285714,  3.28571429,  3.42857143,  3.57142857,\n",
              "        3.71428571,  3.85714286,  4.        ,  4.14285714,  4.28571429,\n",
              "        4.42857143,  4.57142857,  4.71428571,  4.85714286,  5.        ,\n",
              "        5.14285714,  5.28571429,  5.42857143,  5.57142857,  5.71428571,\n",
              "        5.85714286,  6.        ,  6.14285714,  6.28571429,  6.42857143,\n",
              "        6.57142857,  6.71428571,  6.85714286,  7.        ,  7.14285714,\n",
              "        7.28571429,  7.42857143,  7.57142857,  7.71428571,  7.85714286,\n",
              "        8.        ,  8.14285714,  8.28571429,  8.42857143,  8.57142857,\n",
              "        8.71428571,  8.85714286,  9.        ,  9.14285714,  9.28571429,\n",
              "        9.42857143,  9.57142857,  9.71428571,  9.85714286, 10.        ])"
            ]
          },
          "metadata": {},
          "execution_count": 4
        }
      ],
      "source": [
        "np.linspace(3,10,50)"
      ]
    },
    {
      "cell_type": "markdown",
      "id": "0289d659",
      "metadata": {
        "id": "0289d659"
      },
      "source": [
        "Q4 Let x be array [[1, 2, 3], [4, 5, 6]]. Convert it to [1 4 2 5 3 6]."
      ]
    },
    {
      "cell_type": "code",
      "execution_count": 5,
      "id": "f8435bca",
      "metadata": {
        "id": "f8435bca",
        "outputId": "b73b1086-9d9d-4533-d1dc-a168731e9e9d",
        "colab": {
          "base_uri": "https://localhost:8080/"
        }
      },
      "outputs": [
        {
          "output_type": "execute_result",
          "data": {
            "text/plain": [
              "array([1, 4, 2, 5, 3, 6])"
            ]
          },
          "metadata": {},
          "execution_count": 5
        }
      ],
      "source": [
        "x = np.array([[1,2,3],[4,5,6]])\n",
        "np.reshape(x, 6, order = 'F')"
      ]
    },
    {
      "cell_type": "markdown",
      "id": "71988acd",
      "metadata": {
        "id": "71988acd"
      },
      "source": [
        "Q5 Let x be an array [1, 2, 3, ..., 9]. Split x into 3 arrays, each of which has 4, 2, and 3 elements in the original order.\n",
        "\n",
        "\n",
        "\n"
      ]
    },
    {
      "cell_type": "code",
      "execution_count": 6,
      "id": "9425a232",
      "metadata": {
        "id": "9425a232",
        "outputId": "04ad2ace-a963-412e-b7a1-f8e6a8b7e72c",
        "colab": {
          "base_uri": "https://localhost:8080/"
        }
      },
      "outputs": [
        {
          "output_type": "execute_result",
          "data": {
            "text/plain": [
              "[array([1, 2, 3, 4]), array([5, 6]), array([7, 8, 9])]"
            ]
          },
          "metadata": {},
          "execution_count": 6
        }
      ],
      "source": [
        "x = [1,2,3,4,5,6,7,8,9]\n",
        "np.array_split(x, [4,6])"
      ]
    },
    {
      "cell_type": "markdown",
      "id": "6aecae8c",
      "metadata": {
        "id": "6aecae8c"
      },
      "source": [
        " Q6 Compute the inverse and primary diagnol sum of x=[[1,2],[3,4]]"
      ]
    },
    {
      "cell_type": "code",
      "execution_count": 7,
      "id": "3d79a142",
      "metadata": {
        "id": "3d79a142",
        "colab": {
          "base_uri": "https://localhost:8080/"
        },
        "outputId": "ed9a538b-14ea-4390-cded-1367a2b8bde2"
      },
      "outputs": [
        {
          "output_type": "stream",
          "name": "stdout",
          "text": [
            "[[-2.   1. ]\n",
            " [ 1.5 -0.5]]\n",
            "5\n"
          ]
        }
      ],
      "source": [
        "x = np.array([[1,2],\n",
        "             [3,4]])\n",
        "print(np.linalg.inv(x)) # printing inverse\n",
        "print(np.trace(x)) # printing sum of primary diagonal elements (Trace)"
      ]
    },
    {
      "cell_type": "markdown",
      "id": "9f088694",
      "metadata": {
        "id": "9f088694"
      },
      "source": [
        "Q7 Sort x along the second axis. x = [[1,4],[3,1]]"
      ]
    },
    {
      "cell_type": "code",
      "execution_count": 8,
      "id": "40099735",
      "metadata": {
        "id": "40099735",
        "colab": {
          "base_uri": "https://localhost:8080/"
        },
        "outputId": "2775fd41-f257-4267-bb04-e2fce808d5f4"
      },
      "outputs": [
        {
          "output_type": "execute_result",
          "data": {
            "text/plain": [
              "array([[1, 4],\n",
              "       [1, 3]])"
            ]
          },
          "metadata": {},
          "execution_count": 8
        }
      ],
      "source": [
        "x = np.array([[1,4],[3,1]])\n",
        "np.sort(x, axis = 1)"
      ]
    },
    {
      "cell_type": "markdown",
      "id": "51cc1a71",
      "metadata": {
        "id": "51cc1a71"
      },
      "source": [
        "Q8 Get the indices that would sort x(as above) along the second axis."
      ]
    },
    {
      "cell_type": "code",
      "execution_count": 9,
      "id": "f314f2b6",
      "metadata": {
        "id": "f314f2b6",
        "colab": {
          "base_uri": "https://localhost:8080/"
        },
        "outputId": "0d86a5b7-ba9c-454d-f715-7ed71a8da84a"
      },
      "outputs": [
        {
          "output_type": "execute_result",
          "data": {
            "text/plain": [
              "array([[0, 1],\n",
              "       [1, 0]])"
            ]
          },
          "metadata": {},
          "execution_count": 9
        }
      ],
      "source": [
        "np.argsort(x, axis = 1)"
      ]
    },
    {
      "cell_type": "markdown",
      "id": "1cf5455c",
      "metadata": {
        "id": "1cf5455c"
      },
      "source": [
        "Initiate x as a 2x5 array with random values from 0 to 10(not inclusive).Get the maximum and minimum values and their indices of x along the second axis."
      ]
    },
    {
      "cell_type": "code",
      "execution_count": 10,
      "id": "4c9518c5",
      "metadata": {
        "id": "4c9518c5",
        "colab": {
          "base_uri": "https://localhost:8080/"
        },
        "outputId": "9db3be24-a72b-42bc-b6b5-0e12e598b399"
      },
      "outputs": [
        {
          "output_type": "stream",
          "name": "stdout",
          "text": [
            "[[3.25889505 0.30701856 9.70507284 9.75750328 4.97267539]\n",
            " [1.13411296 1.49169961 1.0446129  2.3990771  9.95022233]]\n",
            "max value =  9.95022232505901 , min value =  0.30701855805752576\n",
            "indices of max value =  (1, 4) , indices of min value =  (0, 1)\n"
          ]
        }
      ],
      "source": [
        "x = np.random.uniform(0,10, size = (2,5))\n",
        "print(x)\n",
        "max = x.max()\n",
        "min = x.min()\n",
        "print(\"max value = \", max,\", min value = \", min)\n",
        "index_max = np.unravel_index(np.argmax(x, axis = None), x.shape)\n",
        "index_min = np.unravel_index(np.argmin(x, axis = None), x.shape)\n",
        "print(\"indices of max value = \", index_max,\", indices of min value = \", index_min)"
      ]
    },
    {
      "cell_type": "markdown",
      "id": "d4c46002",
      "metadata": {
        "id": "d4c46002"
      },
      "source": [
        "Run the following load command to get the 2-Dim iris dataset. Do the following operations on it."
      ]
    },
    {
      "cell_type": "code",
      "execution_count": 11,
      "id": "6d70b524",
      "metadata": {
        "id": "6d70b524"
      },
      "outputs": [],
      "source": [
        "url = 'https://archive.ics.uci.edu/ml/machine-learning-databases/iris/iris.data'\n",
        "iris_2d = np.genfromtxt(url, delimiter=',', dtype='float', usecols=[0,1,2,3])"
      ]
    },
    {
      "cell_type": "markdown",
      "id": "09bd05b0",
      "metadata": {
        "id": "09bd05b0"
      },
      "source": [
        "Drop rows that contain a missing value."
      ]
    },
    {
      "cell_type": "code",
      "execution_count": 12,
      "id": "ffd754b3",
      "metadata": {
        "id": "ffd754b3"
      },
      "outputs": [],
      "source": [
        "for row in iris_2d:\n",
        "  for data in row:\n",
        "    if(np.isnan(data) == 'True'):\n",
        "      np.delete(row)\n",
        "      break"
      ]
    },
    {
      "cell_type": "markdown",
      "id": "8cbd9fb3",
      "metadata": {
        "id": "8cbd9fb3"
      },
      "source": [
        "Find the correlation between first two columns."
      ]
    },
    {
      "cell_type": "code",
      "execution_count": 13,
      "id": "e3ef5a77",
      "metadata": {
        "id": "e3ef5a77",
        "colab": {
          "base_uri": "https://localhost:8080/"
        },
        "outputId": "25c7c716-53be-4299-ea2c-5cbfae9aee3d"
      },
      "outputs": [
        {
          "output_type": "execute_result",
          "data": {
            "text/plain": [
              "array([[ 1.        , -0.10936925],\n",
              "       [-0.10936925,  1.        ]])"
            ]
          },
          "metadata": {},
          "execution_count": 13
        }
      ],
      "source": [
        "np.corrcoef(iris_2d[:,0], iris_2d[:,1])"
      ]
    },
    {
      "cell_type": "markdown",
      "id": "73965a4a",
      "metadata": {
        "id": "73965a4a"
      },
      "source": [
        "Find the mean,median and standard deviation of column 3."
      ]
    },
    {
      "cell_type": "code",
      "execution_count": 14,
      "id": "ab824597",
      "metadata": {
        "id": "ab824597",
        "colab": {
          "base_uri": "https://localhost:8080/"
        },
        "outputId": "6fa400fb-374a-4b0f-f0dc-545cda34c1c2"
      },
      "outputs": [
        {
          "output_type": "stream",
          "name": "stdout",
          "text": [
            "mean =  3.758666666666666 , median =  4.35 , standard deviation =  1.7585291834055212\n"
          ]
        }
      ],
      "source": [
        "mean = np.mean(iris_2d[:,2])\n",
        "median = np.median(iris_2d[:,2])\n",
        "std = np.std(iris_2d[:,2])\n",
        "print(\"mean = \", mean, \", median = \", median, \", standard deviation = \", std)"
      ]
    },
    {
      "cell_type": "markdown",
      "id": "14e0308e",
      "metadata": {
        "id": "14e0308e"
      },
      "source": [
        "Create a new column for volume in iris_2d, where volume is (pi x petallength x sepal_length^2)/3"
      ]
    },
    {
      "cell_type": "code",
      "execution_count": 15,
      "id": "91c944c3",
      "metadata": {
        "id": "91c944c3",
        "colab": {
          "base_uri": "https://localhost:8080/"
        },
        "outputId": "bd90f19d-7c2a-47be-af67-1b560540f864"
      },
      "outputs": [
        {
          "output_type": "execute_result",
          "data": {
            "text/plain": [
              "array([[5.10000000e+00, 3.50000000e+00, 1.40000000e+00, 2.00000000e-01,\n",
              "        3.81326516e+01],\n",
              "       [4.90000000e+00, 3.00000000e+00, 1.40000000e+00, 2.00000000e-01,\n",
              "        3.52004985e+01],\n",
              "       [4.70000000e+00, 3.20000000e+00, 1.30000000e+00, 2.00000000e-01,\n",
              "        3.00723721e+01],\n",
              "       [4.60000000e+00, 3.10000000e+00, 1.50000000e+00, 2.00000000e-01,\n",
              "        3.32380503e+01],\n",
              "       [5.00000000e+00, 3.60000000e+00, 1.40000000e+00, 2.00000000e-01,\n",
              "        3.66519143e+01],\n",
              "       [5.40000000e+00, 3.90000000e+00, 1.70000000e+00, 4.00000000e-01,\n",
              "        5.19116770e+01],\n",
              "       [4.60000000e+00, 3.40000000e+00, 1.40000000e+00, 3.00000000e-01,\n",
              "        3.10221803e+01],\n",
              "       [5.00000000e+00, 3.40000000e+00, 1.50000000e+00, 2.00000000e-01,\n",
              "        3.92699082e+01],\n",
              "       [4.40000000e+00, 2.90000000e+00, 1.40000000e+00, 2.00000000e-01,\n",
              "        2.83832424e+01],\n",
              "       [4.90000000e+00, 3.10000000e+00, 1.50000000e+00, 1.00000000e-01,\n",
              "        3.77148198e+01],\n",
              "       [5.40000000e+00, 3.70000000e+00, 1.50000000e+00, 2.00000000e-01,\n",
              "        4.58044209e+01],\n",
              "       [4.80000000e+00, 3.40000000e+00, 1.60000000e+00, 2.00000000e-01,\n",
              "        3.86038905e+01],\n",
              "       [4.80000000e+00, 3.00000000e+00, 1.40000000e+00, 1.00000000e-01,\n",
              "        3.37784042e+01],\n",
              "       [4.30000000e+00, 3.00000000e+00, 1.10000000e+00, 1.00000000e-01,\n",
              "        2.12989510e+01],\n",
              "       [5.80000000e+00, 4.00000000e+00, 1.20000000e+00, 2.00000000e-01,\n",
              "        4.22732707e+01],\n",
              "       [5.70000000e+00, 4.40000000e+00, 1.50000000e+00, 4.00000000e-01,\n",
              "        5.10351727e+01],\n",
              "       [5.40000000e+00, 3.90000000e+00, 1.30000000e+00, 4.00000000e-01,\n",
              "        3.96971648e+01],\n",
              "       [5.10000000e+00, 3.50000000e+00, 1.40000000e+00, 3.00000000e-01,\n",
              "        3.81326516e+01],\n",
              "       [5.70000000e+00, 3.80000000e+00, 1.70000000e+00, 3.00000000e-01,\n",
              "        5.78398623e+01],\n",
              "       [5.10000000e+00, 3.80000000e+00, 1.50000000e+00, 3.00000000e-01,\n",
              "        4.08564125e+01],\n",
              "       [5.40000000e+00, 3.40000000e+00, 1.70000000e+00, 2.00000000e-01,\n",
              "        5.19116770e+01],\n",
              "       [5.10000000e+00, 3.70000000e+00, 1.50000000e+00, 4.00000000e-01,\n",
              "        4.08564125e+01],\n",
              "       [4.60000000e+00, 3.60000000e+00, 1.00000000e+00, 2.00000000e-01,\n",
              "        2.21587002e+01],\n",
              "       [5.10000000e+00, 3.30000000e+00, 1.70000000e+00, 5.00000000e-01,\n",
              "        4.63039341e+01],\n",
              "       [4.80000000e+00, 3.40000000e+00, 1.90000000e+00, 2.00000000e-01,\n",
              "        4.58421200e+01],\n",
              "       [5.00000000e+00, 3.00000000e+00, 1.60000000e+00, 2.00000000e-01,\n",
              "        4.18879020e+01],\n",
              "       [5.00000000e+00, 3.40000000e+00, 1.60000000e+00, 4.00000000e-01,\n",
              "        4.18879020e+01],\n",
              "       [5.20000000e+00, 3.50000000e+00, 1.50000000e+00, 2.00000000e-01,\n",
              "        4.24743327e+01],\n",
              "       [5.20000000e+00, 3.40000000e+00, 1.40000000e+00, 2.00000000e-01,\n",
              "        3.96427105e+01],\n",
              "       [4.70000000e+00, 3.20000000e+00, 1.60000000e+00, 2.00000000e-01,\n",
              "        3.70121502e+01],\n",
              "       [4.80000000e+00, 3.10000000e+00, 1.60000000e+00, 2.00000000e-01,\n",
              "        3.86038905e+01],\n",
              "       [5.40000000e+00, 3.40000000e+00, 1.50000000e+00, 4.00000000e-01,\n",
              "        4.58044209e+01],\n",
              "       [5.20000000e+00, 4.10000000e+00, 1.50000000e+00, 1.00000000e-01,\n",
              "        4.24743327e+01],\n",
              "       [5.50000000e+00, 4.20000000e+00, 1.40000000e+00, 2.00000000e-01,\n",
              "        4.43488163e+01],\n",
              "       [4.90000000e+00, 3.10000000e+00, 1.50000000e+00, 1.00000000e-01,\n",
              "        3.77148198e+01],\n",
              "       [5.00000000e+00, 3.20000000e+00, 1.20000000e+00, 2.00000000e-01,\n",
              "        3.14159265e+01],\n",
              "       [5.50000000e+00, 3.50000000e+00, 1.30000000e+00, 2.00000000e-01,\n",
              "        4.11810437e+01],\n",
              "       [4.90000000e+00, 3.10000000e+00, 1.50000000e+00, 1.00000000e-01,\n",
              "        3.77148198e+01],\n",
              "       [4.40000000e+00, 3.00000000e+00, 1.30000000e+00, 2.00000000e-01,\n",
              "        2.63558680e+01],\n",
              "       [5.10000000e+00, 3.40000000e+00, 1.50000000e+00, 2.00000000e-01,\n",
              "        4.08564125e+01],\n",
              "       [5.00000000e+00, 3.50000000e+00, 1.30000000e+00, 3.00000000e-01,\n",
              "        3.40339204e+01],\n",
              "       [4.50000000e+00, 2.30000000e+00, 1.30000000e+00, 3.00000000e-01,\n",
              "        2.75674755e+01],\n",
              "       [4.40000000e+00, 3.20000000e+00, 1.30000000e+00, 2.00000000e-01,\n",
              "        2.63558680e+01],\n",
              "       [5.00000000e+00, 3.50000000e+00, 1.60000000e+00, 6.00000000e-01,\n",
              "        4.18879020e+01],\n",
              "       [5.10000000e+00, 3.80000000e+00, 1.90000000e+00, 4.00000000e-01,\n",
              "        5.17514558e+01],\n",
              "       [4.80000000e+00, 3.00000000e+00, 1.40000000e+00, 3.00000000e-01,\n",
              "        3.37784042e+01],\n",
              "       [5.10000000e+00, 3.80000000e+00, 1.60000000e+00, 2.00000000e-01,\n",
              "        4.35801733e+01],\n",
              "       [4.60000000e+00, 3.20000000e+00, 1.40000000e+00, 2.00000000e-01,\n",
              "        3.10221803e+01],\n",
              "       [5.30000000e+00, 3.70000000e+00, 1.50000000e+00, 2.00000000e-01,\n",
              "        4.41236688e+01],\n",
              "       [5.00000000e+00, 3.30000000e+00, 1.40000000e+00, 2.00000000e-01,\n",
              "        3.66519143e+01],\n",
              "       [7.00000000e+00, 3.20000000e+00, 4.70000000e+00, 1.40000000e+00,\n",
              "        2.41169596e+02],\n",
              "       [6.40000000e+00, 3.20000000e+00, 4.50000000e+00, 1.50000000e+00,\n",
              "        1.93019453e+02],\n",
              "       [6.90000000e+00, 3.10000000e+00, 4.90000000e+00, 1.50000000e+00,\n",
              "        2.44299670e+02],\n",
              "       [5.50000000e+00, 2.30000000e+00, 4.00000000e+00, 1.30000000e+00,\n",
              "        1.26710904e+02],\n",
              "       [6.50000000e+00, 2.80000000e+00, 4.60000000e+00, 1.50000000e+00,\n",
              "        2.03522844e+02],\n",
              "       [5.70000000e+00, 2.80000000e+00, 4.50000000e+00, 1.30000000e+00,\n",
              "        1.53105518e+02],\n",
              "       [6.30000000e+00, 3.30000000e+00, 4.70000000e+00, 1.60000000e+00,\n",
              "        1.95347373e+02],\n",
              "       [4.90000000e+00, 2.40000000e+00, 3.30000000e+00, 1.00000000e+00,\n",
              "        8.29726036e+01],\n",
              "       [6.60000000e+00, 2.90000000e+00, 4.60000000e+00, 1.30000000e+00,\n",
              "        2.09833257e+02],\n",
              "       [5.20000000e+00, 2.70000000e+00, 3.90000000e+00, 1.40000000e+00,\n",
              "        1.10433265e+02],\n",
              "       [5.00000000e+00, 2.00000000e+00, 3.50000000e+00, 1.00000000e+00,\n",
              "        9.16297857e+01],\n",
              "       [5.90000000e+00, 3.00000000e+00, 4.20000000e+00, 1.50000000e+00,\n",
              "        1.53102376e+02],\n",
              "       [6.00000000e+00, 2.20000000e+00, 4.00000000e+00, 1.00000000e+00,\n",
              "        1.50796447e+02],\n",
              "       [6.10000000e+00, 2.90000000e+00, 4.70000000e+00, 1.40000000e+00,\n",
              "        1.83141238e+02],\n",
              "       [5.60000000e+00, 2.90000000e+00, 3.60000000e+00, 1.30000000e+00,\n",
              "        1.18224415e+02],\n",
              "       [6.70000000e+00, 3.10000000e+00, 4.40000000e+00, 1.40000000e+00,\n",
              "        2.06838272e+02],\n",
              "       [5.60000000e+00, 3.00000000e+00, 4.50000000e+00, 1.50000000e+00,\n",
              "        1.47780518e+02],\n",
              "       [5.80000000e+00, 2.70000000e+00, 4.10000000e+00, 1.00000000e+00,\n",
              "        1.44433675e+02],\n",
              "       [6.20000000e+00, 2.20000000e+00, 4.50000000e+00, 1.50000000e+00,\n",
              "        1.81144232e+02],\n",
              "       [5.60000000e+00, 2.50000000e+00, 3.90000000e+00, 1.10000000e+00,\n",
              "        1.28076449e+02],\n",
              "       [5.90000000e+00, 3.20000000e+00, 4.80000000e+00, 1.80000000e+00,\n",
              "        1.74974144e+02],\n",
              "       [6.10000000e+00, 2.80000000e+00, 4.00000000e+00, 1.30000000e+00,\n",
              "        1.55864884e+02],\n",
              "       [6.30000000e+00, 2.50000000e+00, 4.90000000e+00, 1.50000000e+00,\n",
              "        2.03660027e+02],\n",
              "       [6.10000000e+00, 2.80000000e+00, 4.70000000e+00, 1.20000000e+00,\n",
              "        1.83141238e+02],\n",
              "       [6.40000000e+00, 2.90000000e+00, 4.30000000e+00, 1.30000000e+00,\n",
              "        1.84440810e+02],\n",
              "       [6.60000000e+00, 3.00000000e+00, 4.40000000e+00, 1.40000000e+00,\n",
              "        2.00710071e+02],\n",
              "       [6.80000000e+00, 2.80000000e+00, 4.80000000e+00, 1.40000000e+00,\n",
              "        2.32427591e+02],\n",
              "       [6.70000000e+00, 3.00000000e+00, 5.00000000e+00, 1.70000000e+00,\n",
              "        2.35043490e+02],\n",
              "       [6.00000000e+00, 2.90000000e+00, 4.50000000e+00, 1.50000000e+00,\n",
              "        1.69646003e+02],\n",
              "       [5.70000000e+00, 2.60000000e+00, 3.50000000e+00, 1.00000000e+00,\n",
              "        1.19082070e+02],\n",
              "       [5.50000000e+00, 2.40000000e+00, 3.80000000e+00, 1.10000000e+00,\n",
              "        1.20375359e+02],\n",
              "       [5.50000000e+00, 2.40000000e+00, 3.70000000e+00, 1.00000000e+00,\n",
              "        1.17207586e+02],\n",
              "       [5.80000000e+00, 2.70000000e+00, 3.90000000e+00, 1.20000000e+00,\n",
              "        1.37388130e+02],\n",
              "       [6.00000000e+00, 2.70000000e+00, 5.10000000e+00, 1.60000000e+00,\n",
              "        1.92265470e+02],\n",
              "       [5.40000000e+00, 3.00000000e+00, 4.50000000e+00, 1.50000000e+00,\n",
              "        1.37413263e+02],\n",
              "       [6.00000000e+00, 3.40000000e+00, 4.50000000e+00, 1.60000000e+00,\n",
              "        1.69646003e+02],\n",
              "       [6.70000000e+00, 3.10000000e+00, 4.70000000e+00, 1.50000000e+00,\n",
              "        2.20940881e+02],\n",
              "       [6.30000000e+00, 2.30000000e+00, 4.40000000e+00, 1.30000000e+00,\n",
              "        1.82878392e+02],\n",
              "       [5.60000000e+00, 3.00000000e+00, 4.10000000e+00, 1.30000000e+00,\n",
              "        1.34644472e+02],\n",
              "       [5.50000000e+00, 2.50000000e+00, 4.00000000e+00, 1.30000000e+00,\n",
              "        1.26710904e+02],\n",
              "       [5.50000000e+00, 2.60000000e+00, 4.40000000e+00, 1.20000000e+00,\n",
              "        1.39381994e+02],\n",
              "       [6.10000000e+00, 3.00000000e+00, 4.60000000e+00, 1.40000000e+00,\n",
              "        1.79244616e+02],\n",
              "       [5.80000000e+00, 2.60000000e+00, 4.00000000e+00, 1.20000000e+00,\n",
              "        1.40910902e+02],\n",
              "       [5.00000000e+00, 2.30000000e+00, 3.30000000e+00, 1.00000000e+00,\n",
              "        8.63937980e+01],\n",
              "       [5.60000000e+00, 2.70000000e+00, 4.20000000e+00, 1.30000000e+00,\n",
              "        1.37928484e+02],\n",
              "       [5.70000000e+00, 3.00000000e+00, 4.20000000e+00, 1.20000000e+00,\n",
              "        1.42898483e+02],\n",
              "       [5.70000000e+00, 2.90000000e+00, 4.20000000e+00, 1.30000000e+00,\n",
              "        1.42898483e+02],\n",
              "       [6.20000000e+00, 2.90000000e+00, 4.30000000e+00, 1.30000000e+00,\n",
              "        1.73093378e+02],\n",
              "       [5.10000000e+00, 2.50000000e+00, 3.00000000e+00, 1.10000000e+00,\n",
              "        8.17128249e+01],\n",
              "       [5.70000000e+00, 2.80000000e+00, 4.10000000e+00, 1.30000000e+00,\n",
              "        1.39496139e+02],\n",
              "       [6.30000000e+00, 3.30000000e+00, 6.00000000e+00, 2.50000000e+00,\n",
              "        2.49379625e+02],\n",
              "       [5.80000000e+00, 2.70000000e+00, 5.10000000e+00, 1.90000000e+00,\n",
              "        1.79661401e+02],\n",
              "       [7.10000000e+00, 3.00000000e+00, 5.90000000e+00, 2.10000000e+00,\n",
              "        3.11456448e+02],\n",
              "       [6.30000000e+00, 2.90000000e+00, 5.60000000e+00, 1.80000000e+00,\n",
              "        2.32754317e+02],\n",
              "       [6.50000000e+00, 3.00000000e+00, 5.80000000e+00, 2.20000000e+00,\n",
              "        2.56615760e+02],\n",
              "       [7.60000000e+00, 3.00000000e+00, 6.60000000e+00, 2.10000000e+00,\n",
              "        3.99208462e+02],\n",
              "       [4.90000000e+00, 2.50000000e+00, 4.50000000e+00, 1.70000000e+00,\n",
              "        1.13144459e+02],\n",
              "       [7.30000000e+00, 2.90000000e+00, 6.30000000e+00, 1.80000000e+00,\n",
              "        3.51572492e+02],\n",
              "       [6.70000000e+00, 2.50000000e+00, 5.80000000e+00, 1.80000000e+00,\n",
              "        2.72650449e+02],\n",
              "       [7.20000000e+00, 3.60000000e+00, 6.10000000e+00, 2.50000000e+00,\n",
              "        3.31148998e+02],\n",
              "       [6.50000000e+00, 3.20000000e+00, 5.10000000e+00, 2.00000000e+00,\n",
              "        2.25644892e+02],\n",
              "       [6.40000000e+00, 2.70000000e+00, 5.30000000e+00, 1.90000000e+00,\n",
              "        2.27334022e+02],\n",
              "       [6.80000000e+00, 3.00000000e+00, 5.50000000e+00, 2.10000000e+00,\n",
              "        2.66323281e+02],\n",
              "       [5.70000000e+00, 2.50000000e+00, 5.00000000e+00, 2.00000000e+00,\n",
              "        1.70117242e+02],\n",
              "       [5.80000000e+00, 2.80000000e+00, 5.10000000e+00, 2.40000000e+00,\n",
              "        1.79661401e+02],\n",
              "       [6.40000000e+00, 3.20000000e+00, 5.30000000e+00, 2.30000000e+00,\n",
              "        2.27334022e+02],\n",
              "       [6.50000000e+00, 3.00000000e+00, 5.50000000e+00, 1.80000000e+00,\n",
              "        2.43342531e+02],\n",
              "       [7.70000000e+00, 3.80000000e+00, 6.70000000e+00, 2.20000000e+00,\n",
              "        4.15991897e+02],\n",
              "       [7.70000000e+00, 2.60000000e+00, 6.90000000e+00, 2.30000000e+00,\n",
              "        4.28409565e+02],\n",
              "       [6.00000000e+00, 2.20000000e+00, 5.00000000e+00, 1.50000000e+00,\n",
              "        1.88495559e+02],\n",
              "       [6.90000000e+00, 3.20000000e+00, 5.70000000e+00, 2.30000000e+00,\n",
              "        2.84185330e+02],\n",
              "       [5.60000000e+00, 2.80000000e+00, 4.90000000e+00, 2.00000000e+00,\n",
              "        1.60916565e+02],\n",
              "       [7.70000000e+00, 2.80000000e+00, 6.70000000e+00, 2.00000000e+00,\n",
              "        4.15991897e+02],\n",
              "       [6.30000000e+00, 2.70000000e+00, 4.90000000e+00, 1.80000000e+00,\n",
              "        2.03660027e+02],\n",
              "       [6.70000000e+00, 3.30000000e+00, 5.70000000e+00, 2.10000000e+00,\n",
              "        2.67949579e+02],\n",
              "       [7.20000000e+00, 3.20000000e+00, 6.00000000e+00, 1.80000000e+00,\n",
              "        3.25720326e+02],\n",
              "       [6.20000000e+00, 2.80000000e+00, 4.80000000e+00, 1.80000000e+00,\n",
              "        1.93220515e+02],\n",
              "       [6.10000000e+00, 3.00000000e+00, 4.90000000e+00, 1.80000000e+00,\n",
              "        1.90934482e+02],\n",
              "       [6.40000000e+00, 2.80000000e+00, 5.60000000e+00, 2.10000000e+00,\n",
              "        2.40201986e+02],\n",
              "       [7.20000000e+00, 3.00000000e+00, 5.80000000e+00, 1.60000000e+00,\n",
              "        3.14862982e+02],\n",
              "       [7.40000000e+00, 2.80000000e+00, 6.10000000e+00, 1.90000000e+00,\n",
              "        3.49801681e+02],\n",
              "       [7.90000000e+00, 3.80000000e+00, 6.40000000e+00, 2.00000000e+00,\n",
              "        4.18275835e+02],\n",
              "       [6.40000000e+00, 2.80000000e+00, 5.60000000e+00, 2.20000000e+00,\n",
              "        2.40201986e+02],\n",
              "       [6.30000000e+00, 2.80000000e+00, 5.10000000e+00, 1.50000000e+00,\n",
              "        2.11972681e+02],\n",
              "       [6.10000000e+00, 2.60000000e+00, 5.60000000e+00, 1.40000000e+00,\n",
              "        2.18210837e+02],\n",
              "       [7.70000000e+00, 3.00000000e+00, 6.10000000e+00, 2.30000000e+00,\n",
              "        3.78738891e+02],\n",
              "       [6.30000000e+00, 3.40000000e+00, 5.60000000e+00, 2.40000000e+00,\n",
              "        2.32754317e+02],\n",
              "       [6.40000000e+00, 3.10000000e+00, 5.50000000e+00, 1.80000000e+00,\n",
              "        2.35912664e+02],\n",
              "       [6.00000000e+00, 3.00000000e+00, 4.80000000e+00, 1.80000000e+00,\n",
              "        1.80955737e+02],\n",
              "       [6.90000000e+00, 3.10000000e+00, 5.40000000e+00, 2.10000000e+00,\n",
              "        2.69228207e+02],\n",
              "       [6.70000000e+00, 3.10000000e+00, 5.60000000e+00, 2.40000000e+00,\n",
              "        2.63248709e+02],\n",
              "       [6.90000000e+00, 3.10000000e+00, 5.10000000e+00, 2.30000000e+00,\n",
              "        2.54271085e+02],\n",
              "       [5.80000000e+00, 2.70000000e+00, 5.10000000e+00, 1.90000000e+00,\n",
              "        1.79661401e+02],\n",
              "       [6.80000000e+00, 3.20000000e+00, 5.90000000e+00, 2.30000000e+00,\n",
              "        2.85692247e+02],\n",
              "       [6.70000000e+00, 3.30000000e+00, 5.70000000e+00, 2.50000000e+00,\n",
              "        2.67949579e+02],\n",
              "       [6.70000000e+00, 3.00000000e+00, 5.20000000e+00, 2.30000000e+00,\n",
              "        2.44445230e+02],\n",
              "       [6.30000000e+00, 2.50000000e+00, 5.00000000e+00, 1.90000000e+00,\n",
              "        2.07816354e+02],\n",
              "       [6.50000000e+00, 3.00000000e+00, 5.20000000e+00, 2.00000000e+00,\n",
              "        2.30069302e+02],\n",
              "       [6.20000000e+00, 3.40000000e+00, 5.40000000e+00, 2.30000000e+00,\n",
              "        2.17373079e+02],\n",
              "       [5.90000000e+00, 3.00000000e+00, 5.10000000e+00, 1.80000000e+00,\n",
              "        1.85910028e+02]])"
            ]
          },
          "metadata": {},
          "execution_count": 15
        }
      ],
      "source": [
        "volume = []\n",
        "for i in range(np.shape(iris_2d)[0]):\n",
        "  pi = np.pi\n",
        "  sepal_len = iris_2d[i][0]\n",
        "  petal_len = iris_2d[i][2]\n",
        "  data = (pi * petal_len * sepal_len * sepal_len)/3\n",
        "  volume.append(data)\n",
        "volume = np.reshape(np.array(volume), (np.shape(iris_2d)[0],1))\n",
        "iris_2d = np.append(iris_2d, volume, axis=1)\n",
        "iris_2d"
      ]
    },
    {
      "cell_type": "markdown",
      "id": "b7c1758f",
      "metadata": {
        "id": "b7c1758f"
      },
      "source": [
        "Run the following loaad command and solve the following questions"
      ]
    },
    {
      "cell_type": "code",
      "execution_count": 16,
      "id": "b3fae8a7",
      "metadata": {
        "id": "b3fae8a7"
      },
      "outputs": [],
      "source": [
        "url = 'https://archive.ics.uci.edu/ml/machine-learning-databases/iris/iris.data'\n",
        "iris = np.genfromtxt(url, delimiter=',', dtype='object')\n",
        "names = ('sepallength', 'sepalwidth', 'petallength', 'petalwidth', 'species')"
      ]
    },
    {
      "cell_type": "markdown",
      "id": "4ee21e50",
      "metadata": {
        "id": "4ee21e50"
      },
      "source": [
        "Find the count of unique species."
      ]
    },
    {
      "cell_type": "code",
      "execution_count": 17,
      "id": "730ad758",
      "metadata": {
        "id": "730ad758",
        "colab": {
          "base_uri": "https://localhost:8080/"
        },
        "outputId": "267a65d1-75de-44c2-f46b-f8d2cee413e5"
      },
      "outputs": [
        {
          "output_type": "execute_result",
          "data": {
            "text/plain": [
              "3"
            ]
          },
          "metadata": {},
          "execution_count": 17
        }
      ],
      "source": [
        "species = np.unique(iris[:,4])\n",
        "count = np.shape(species)[0]\n",
        "count"
      ]
    },
    {
      "cell_type": "markdown",
      "id": "6d054b10",
      "metadata": {
        "id": "6d054b10"
      },
      "source": [
        "Bin the petal length (3rd) column of iris_2d to form a text array, such that if petal length is:\n",
        "Less than 3 –> ‘small’\n",
        "3-5 –> ‘medium’\n",
        "‘>=5 –> ‘large’"
      ]
    },
    {
      "cell_type": "code",
      "source": [
        "bins = [0,3,5,iris_2d[:,2].max()]\n",
        "indices = np.digitize(iris_2d[:,2], bins)\n",
        "petal_len_cat = []\n",
        "for i in indices:\n",
        "  if(i==1):\n",
        "    petal_len_cat.append(\"small\")\n",
        "  elif(i==2):\n",
        "    petal_len_cat.append(\"medium\")\n",
        "  else:\n",
        "    petal_len_cat.append(\"large\")\n",
        "petal_len_cat = np.array(petal_len_cat)\n",
        "petal_len_cat"
      ],
      "metadata": {
        "colab": {
          "base_uri": "https://localhost:8080/"
        },
        "id": "uisa8dxU2Ga4",
        "outputId": "3c79ba53-99da-469a-d08c-2df9fa6eea16"
      },
      "id": "uisa8dxU2Ga4",
      "execution_count": 18,
      "outputs": [
        {
          "output_type": "execute_result",
          "data": {
            "text/plain": [
              "array(['small', 'small', 'small', 'small', 'small', 'small', 'small',\n",
              "       'small', 'small', 'small', 'small', 'small', 'small', 'small',\n",
              "       'small', 'small', 'small', 'small', 'small', 'small', 'small',\n",
              "       'small', 'small', 'small', 'small', 'small', 'small', 'small',\n",
              "       'small', 'small', 'small', 'small', 'small', 'small', 'small',\n",
              "       'small', 'small', 'small', 'small', 'small', 'small', 'small',\n",
              "       'small', 'small', 'small', 'small', 'small', 'small', 'small',\n",
              "       'small', 'medium', 'medium', 'medium', 'medium', 'medium',\n",
              "       'medium', 'medium', 'medium', 'medium', 'medium', 'medium',\n",
              "       'medium', 'medium', 'medium', 'medium', 'medium', 'medium',\n",
              "       'medium', 'medium', 'medium', 'medium', 'medium', 'medium',\n",
              "       'medium', 'medium', 'medium', 'medium', 'large', 'medium',\n",
              "       'medium', 'medium', 'medium', 'medium', 'large', 'medium',\n",
              "       'medium', 'medium', 'medium', 'medium', 'medium', 'medium',\n",
              "       'medium', 'medium', 'medium', 'medium', 'medium', 'medium',\n",
              "       'medium', 'medium', 'medium', 'large', 'large', 'large', 'large',\n",
              "       'large', 'large', 'medium', 'large', 'large', 'large', 'large',\n",
              "       'large', 'large', 'large', 'large', 'large', 'large', 'large',\n",
              "       'large', 'large', 'large', 'medium', 'large', 'medium', 'large',\n",
              "       'large', 'medium', 'medium', 'large', 'large', 'large', 'large',\n",
              "       'large', 'large', 'large', 'large', 'large', 'large', 'medium',\n",
              "       'large', 'large', 'large', 'large', 'large', 'large', 'large',\n",
              "       'large', 'large', 'large', 'large'], dtype='<U6')"
            ]
          },
          "metadata": {},
          "execution_count": 18
        }
      ]
    },
    {
      "cell_type": "markdown",
      "id": "87b2ddd8",
      "metadata": {
        "id": "87b2ddd8"
      },
      "source": [
        "Find the most frequent value of petal length (3rd column) in iris dataset"
      ]
    },
    {
      "cell_type": "code",
      "execution_count": 19,
      "id": "bb79857d",
      "metadata": {
        "id": "bb79857d",
        "colab": {
          "base_uri": "https://localhost:8080/"
        },
        "outputId": "6b501d54-d2dc-42ff-953c-c43e4ba8b172"
      },
      "outputs": [
        {
          "output_type": "execute_result",
          "data": {
            "text/plain": [
              "b'1.5'"
            ]
          },
          "metadata": {},
          "execution_count": 19
        }
      ],
      "source": [
        "values, counts = np.unique(iris[:,2], return_counts = True)\n",
        "index_max = np.argmax(counts)\n",
        "values[index_max]"
      ]
    },
    {
      "cell_type": "code",
      "source": [],
      "metadata": {
        "id": "QKFHEUjYaZPa"
      },
      "id": "QKFHEUjYaZPa",
      "execution_count": 19,
      "outputs": []
    }
  ],
  "metadata": {
    "kernelspec": {
      "display_name": "Python 3 (ipykernel)",
      "language": "python",
      "name": "python3"
    },
    "language_info": {
      "codemirror_mode": {
        "name": "ipython",
        "version": 3
      },
      "file_extension": ".py",
      "mimetype": "text/x-python",
      "name": "python",
      "nbconvert_exporter": "python",
      "pygments_lexer": "ipython3",
      "version": "3.8.10"
    },
    "colab": {
      "provenance": []
    }
  },
  "nbformat": 4,
  "nbformat_minor": 5
}