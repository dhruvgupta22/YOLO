{
  "metadata": {
    "kernelspec": {
      "language": "python",
      "display_name": "Python 3",
      "name": "python3"
    },
    "language_info": {
      "pygments_lexer": "ipython3",
      "nbconvert_exporter": "python",
      "version": "3.6.4",
      "file_extension": ".py",
      "codemirror_mode": {
        "name": "ipython",
        "version": 3
      },
      "name": "python",
      "mimetype": "text/x-python"
    },
    "colab": {
      "provenance": []
    }
  },
  "nbformat_minor": 0,
  "nbformat": 4,
  "cells": [
    {
      "cell_type": "markdown",
      "source": [
        ".csv files link: https://drive.google.com/drive/folders/1_61paubLpjXutt7jyuvjyjRapAdz8mH9?usp=sharing\n",
        "\n",
        "Submission link: https://forms.gle/UU4MuksSZqgNYeXK7\n",
        "\n",
        "Form closes at: 8:00PM, June 2nd 2023. You may continue to edit the assignment until 11:59PM, June 4th 2023.\n"
      ],
      "metadata": {
        "id": "g63cwkrkbw83"
      }
    },
    {
      "cell_type": "markdown",
      "source": [
        "# 1. Introduction\n"
      ],
      "metadata": {
        "id": "3k1Txf1vp1nV"
      }
    },
    {
      "cell_type": "markdown",
      "source": [
        "**Import all Necessary Libraries**"
      ],
      "metadata": {
        "_uuid": "7ed04b1e7a00a7ad31ee98a7d8e55880e6274f29",
        "id": "NIyoa1bYp1nW"
      }
    },
    {
      "cell_type": "code",
      "source": [
        "import pandas as pd\n",
        "import numpy as np\n",
        "\n",
        "import matplotlib.pyplot as plt\n",
        "import seaborn as sns\n",
        "\n",
        "from sklearn.model_selection import train_test_split\n",
        "from sklearn.metrics import confusion_matrix\n",
        "\n",
        "import keras\n",
        "from keras.models import Sequential\n",
        "from keras.layers import Conv2D, Lambda, MaxPooling2D # convolution layers\n",
        "from keras.layers import Dense, Dropout, Flatten # core layers\n",
        "from tensorflow.keras.layers import BatchNormalization\n",
        "from keras.preprocessing.image import ImageDataGenerator\n",
        "\n",
        "from keras.utils.np_utils import to_categorical\n",
        "\n"
      ],
      "metadata": {
        "_uuid": "0f935bddcc5ca02702578e712bf7f396ba7154ef",
        "execution": {
          "iopub.status.busy": "2023-05-30T13:35:07.139049Z",
          "iopub.execute_input": "2023-05-30T13:35:07.139351Z",
          "iopub.status.idle": "2023-05-30T13:35:09.390491Z",
          "shell.execute_reply.started": "2023-05-30T13:35:07.139296Z",
          "shell.execute_reply": "2023-05-30T13:35:09.389583Z"
        },
        "trusted": true,
        "id": "b39kNGuGp1nW"
      },
      "execution_count": null,
      "outputs": []
    },
    {
      "cell_type": "code",
      "source": [
        "!pip install sklearn"
      ],
      "metadata": {
        "colab": {
          "base_uri": "https://localhost:8080/"
        },
        "id": "t0CB3tLtc4Fh",
        "outputId": "12918343-4244-4150-da09-6f3e77c09d14"
      },
      "execution_count": null,
      "outputs": [
        {
          "output_type": "stream",
          "name": "stdout",
          "text": [
            "Looking in indexes: https://pypi.org/simple, https://us-python.pkg.dev/colab-wheels/public/simple/\n",
            "Requirement already satisfied: sklearn in /usr/local/lib/python3.10/dist-packages (0.0.post5)\n"
          ]
        }
      ]
    },
    {
      "cell_type": "markdown",
      "source": [
        "# 2. Data preparation\n",
        "## 2.1 Load data"
      ],
      "metadata": {
        "_uuid": "f94870f1682c45b0e4ea378d287302656af3cf8e",
        "id": "g2jNt52Rp1nY"
      }
    },
    {
      "cell_type": "code",
      "source": [
        "train = pd.read_csv('train.csv')\n",
        "test = pd.read_csv('test.csv')\n",
        "sub = pd.read_csv('sample_submission.csv')"
      ],
      "metadata": {
        "execution": {
          "iopub.status.busy": "2023-05-30T13:36:27.341562Z",
          "iopub.execute_input": "2023-05-30T13:36:27.341895Z",
          "iopub.status.idle": "2023-05-30T13:36:33.751175Z",
          "shell.execute_reply.started": "2023-05-30T13:36:27.341836Z",
          "shell.execute_reply": "2023-05-30T13:36:33.750294Z"
        },
        "trusted": true,
        "id": "jAUEqeo_p1nY"
      },
      "execution_count": null,
      "outputs": []
    },
    {
      "cell_type": "code",
      "source": [
        "print(f\"Training data size is {train.shape}\\nTesting data size is {test.shape}\")"
      ],
      "metadata": {
        "execution": {
          "iopub.status.busy": "2023-05-30T13:36:37.017930Z",
          "iopub.execute_input": "2023-05-30T13:36:37.018285Z",
          "iopub.status.idle": "2023-05-30T13:36:37.024349Z",
          "shell.execute_reply.started": "2023-05-30T13:36:37.018227Z",
          "shell.execute_reply": "2023-05-30T13:36:37.023155Z"
        },
        "trusted": true,
        "colab": {
          "base_uri": "https://localhost:8080/"
        },
        "id": "O5mhCTJip1nY",
        "outputId": "acf96261-67b5-4cd5-9f9d-12b05083be50"
      },
      "execution_count": null,
      "outputs": [
        {
          "output_type": "stream",
          "name": "stdout",
          "text": [
            "Training data size is (42000, 785)\n",
            "Testing data size is (28000, 784)\n"
          ]
        }
      ]
    },
    {
      "cell_type": "markdown",
      "source": [
        "**Set data features and labels**"
      ],
      "metadata": {
        "id": "vT3sQM35p1nY"
      }
    },
    {
      "cell_type": "code",
      "source": [
        "X = train.drop(['label'], 1).values\n",
        "y = train['label'].values"
      ],
      "metadata": {
        "execution": {
          "iopub.status.busy": "2023-05-30T13:36:39.661470Z",
          "iopub.execute_input": "2023-05-30T13:36:39.661876Z",
          "iopub.status.idle": "2023-05-30T13:36:39.853976Z",
          "shell.execute_reply.started": "2023-05-30T13:36:39.661806Z",
          "shell.execute_reply": "2023-05-30T13:36:39.852421Z"
        },
        "trusted": true,
        "colab": {
          "base_uri": "https://localhost:8080/"
        },
        "id": "LzzT0HzSp1nZ",
        "outputId": "04257971-83aa-4e70-bda1-b2ebd6d67868"
      },
      "execution_count": null,
      "outputs": [
        {
          "output_type": "stream",
          "name": "stderr",
          "text": [
            "<ipython-input-5-a59f6058bd32>:1: FutureWarning: In a future version of pandas all arguments of DataFrame.drop except for the argument 'labels' will be keyword-only.\n",
            "  X = train.drop(['label'], 1).values\n"
          ]
        }
      ]
    },
    {
      "cell_type": "markdown",
      "source": [
        "## 2.2 Normalization"
      ],
      "metadata": {
        "id": "wN8OzFUpp1nZ"
      }
    },
    {
      "cell_type": "markdown",
      "source": [
        "The activation values of X range from 0 to 255.\n",
        "Normalize them to have a range of 0 to 1\n",
        "\n"
      ],
      "metadata": {
        "id": "cSLENzq6p1nZ"
      }
    },
    {
      "cell_type": "code",
      "source": [
        "X = X/255"
      ],
      "metadata": {
        "execution": {
          "iopub.status.busy": "2023-05-30T13:36:43.087276Z",
          "iopub.execute_input": "2023-05-30T13:36:43.087586Z",
          "iopub.status.idle": "2023-05-30T13:36:43.327014Z",
          "shell.execute_reply.started": "2023-05-30T13:36:43.087534Z",
          "shell.execute_reply": "2023-05-30T13:36:43.326084Z"
        },
        "trusted": true,
        "id": "I_ohF5YMp1na"
      },
      "execution_count": null,
      "outputs": []
    },
    {
      "cell_type": "markdown",
      "source": [
        "## 2.3 Reshape"
      ],
      "metadata": {
        "id": "BmRMh_2bp1na"
      }
    },
    {
      "cell_type": "code",
      "source": [
        "# Reshape image in 3 dimensions (height = 28px, width = 28px , canal = 1)\n",
        "# canal = 1 => For gray scale\n",
        "# current X.shape = (42000, 28, 28, 3)\n",
        "# desired X.shape = (42000, 28, 28, 1)\n",
        "X = X.reshape(42000, 28,28, 1)"
      ],
      "metadata": {
        "execution": {
          "iopub.status.busy": "2023-05-30T13:36:44.643672Z",
          "iopub.execute_input": "2023-05-30T13:36:44.643985Z",
          "iopub.status.idle": "2023-05-30T13:36:44.648329Z",
          "shell.execute_reply.started": "2023-05-30T13:36:44.643928Z",
          "shell.execute_reply": "2023-05-30T13:36:44.647270Z"
        },
        "trusted": true,
        "id": "SeA3Saobp1na"
      },
      "execution_count": null,
      "outputs": []
    },
    {
      "cell_type": "markdown",
      "source": [
        "## 2.4 Label encoding"
      ],
      "metadata": {
        "id": "2EOA8NLfp1na"
      }
    },
    {
      "cell_type": "markdown",
      "source": [
        "**One-Hot Encoding**"
      ],
      "metadata": {
        "id": "gWkiXWp4p1na"
      }
    },
    {
      "cell_type": "code",
      "source": [
        "# Encode labels to one hot vectors (ex : 2 -> [0,0,1,0,0,0,0,0,0,0])\n",
        "y = to_categorical(y) # You should use Keras to do this\n",
        "# previous y.shape = (42000, 1)\n",
        "print(f\"Label size {y.shape}\")"
      ],
      "metadata": {
        "execution": {
          "iopub.status.busy": "2023-05-30T13:36:46.972062Z",
          "iopub.execute_input": "2023-05-30T13:36:46.972388Z",
          "iopub.status.idle": "2023-05-30T13:36:46.978845Z",
          "shell.execute_reply.started": "2023-05-30T13:36:46.972334Z",
          "shell.execute_reply": "2023-05-30T13:36:46.978045Z"
        },
        "trusted": true,
        "colab": {
          "base_uri": "https://localhost:8080/"
        },
        "id": "1zsH-tgCp1nb",
        "outputId": "7b5db5b0-5477-42c8-dca5-f28a26ade4c3"
      },
      "execution_count": null,
      "outputs": [
        {
          "output_type": "stream",
          "name": "stdout",
          "text": [
            "Label size (42000, 10)\n"
          ]
        }
      ]
    },
    {
      "cell_type": "markdown",
      "source": [
        "Labels are 10 digits numbers from 0 to 9. We need to encode these lables to one hot vectors (ex : 2 -> [0,0,1,0,0,0,0,0,0,0])."
      ],
      "metadata": {
        "id": "GW1ekuA8p1nb"
      }
    },
    {
      "cell_type": "markdown",
      "source": [
        "## 2.5 Split training and valdiation set"
      ],
      "metadata": {
        "id": "ZR4kfsiDp1nb"
      }
    },
    {
      "cell_type": "code",
      "source": [
        "# Split the train and the validation set for the fitting\n",
        "# Decide the val_size and read more about random_state https://stackoverflow.com/questions/28064634/random-state-pseudo-random-number-in-scikit-learn\n",
        "X_train, X_test, y_train, y_test = train_test_split(X, y, test_size=0.1, random_state=0)"
      ],
      "metadata": {
        "execution": {
          "iopub.status.busy": "2023-05-30T13:36:50.039409Z",
          "iopub.execute_input": "2023-05-30T13:36:50.039730Z",
          "iopub.status.idle": "2023-05-30T13:36:50.699979Z",
          "shell.execute_reply.started": "2023-05-30T13:36:50.039673Z",
          "shell.execute_reply": "2023-05-30T13:36:50.699165Z"
        },
        "trusted": true,
        "id": "T7n4h2pDp1nb"
      },
      "execution_count": null,
      "outputs": []
    },
    {
      "cell_type": "code",
      "source": [
        "X_train.shape, X_test.shape, y_train.shape, y_test.shape # Can you explain these numbers based on the val_size that you set?"
      ],
      "metadata": {
        "execution": {
          "iopub.status.busy": "2023-05-30T13:36:51.760318Z",
          "iopub.execute_input": "2023-05-30T13:36:51.760629Z",
          "iopub.status.idle": "2023-05-30T13:36:51.768123Z",
          "shell.execute_reply.started": "2023-05-30T13:36:51.760573Z",
          "shell.execute_reply": "2023-05-30T13:36:51.767266Z"
        },
        "trusted": true,
        "colab": {
          "base_uri": "https://localhost:8080/"
        },
        "id": "6E2OBaWdp1nb",
        "outputId": "7eb1bf04-12cf-4488-db2b-7b1f4a9862e8"
      },
      "execution_count": null,
      "outputs": [
        {
          "output_type": "execute_result",
          "data": {
            "text/plain": [
              "((37800, 28, 28, 1), (4200, 28, 28, 1), (37800, 10), (4200, 10))"
            ]
          },
          "metadata": {},
          "execution_count": 10
        }
      ]
    },
    {
      "cell_type": "markdown",
      "source": [
        "I choosed to split the train set in two parts : a small fraction (10%) became the validation set which the model is evaluated and the rest (90%) is used to train the model."
      ],
      "metadata": {
        "id": "N3mPRO2op1nc"
      }
    },
    {
      "cell_type": "markdown",
      "source": [
        "**Data Visualization**"
      ],
      "metadata": {
        "_uuid": "d9f73cd8890cc89d03837ef47210b27b94b156dc",
        "id": "5NjgI5nFp1nc"
      }
    },
    {
      "cell_type": "code",
      "source": [
        "X_train__ = X_train.reshape(X_train.shape[0], 28, 28)\n",
        "\n",
        "fig, axis = plt.subplots(1, 4, figsize=(20, 10))\n",
        "for i, ax in enumerate(axis.flat):\n",
        "    ax.imshow(X_train__[i], cmap='binary')\n",
        "    digit = y_train[i].argmax()\n",
        "    ax.set(title = f\"Real Number is {digit}\");"
      ],
      "metadata": {
        "_uuid": "d00d9b96668d11a33c272b2b64cbb4397dcbba89",
        "scrolled": true,
        "execution": {
          "iopub.status.busy": "2023-05-30T13:36:54.243937Z",
          "iopub.execute_input": "2023-05-30T13:36:54.244302Z",
          "iopub.status.idle": "2023-05-30T13:36:55.235756Z",
          "shell.execute_reply.started": "2023-05-30T13:36:54.244244Z",
          "shell.execute_reply": "2023-05-30T13:36:55.234929Z"
        },
        "trusted": true,
        "colab": {
          "base_uri": "https://localhost:8080/",
          "height": 298
        },
        "id": "_yeEL8yxp1nc",
        "outputId": "b4f41134-582a-4ce2-96b4-ddbca0f73e92"
      },
      "execution_count": null,
      "outputs": [
        {
          "output_type": "display_data",
          "data": {
            "text/plain": [
              "<Figure size 2000x1000 with 4 Axes>"
            ],
            "image/png": "[encoded data removed]"
          },
          "metadata": {}
        }
      ]
    },
    {
      "cell_type": "markdown",
      "source": [
        "**Normalization**"
      ],
      "metadata": {
        "_uuid": "a4f73e65842423bae7cfce945cd4dc0e367c180a",
        "id": "_MyDZGckp1nc"
      }
    },
    {
      "cell_type": "code",
      "source": [
        "mean = np.mean(X_train)\n",
        "std = np.std(X_train)\n",
        "\n",
        "def standardize(x):\n",
        "    return (X-mean)/std # Normalize x using mean and std"
      ],
      "metadata": {
        "_uuid": "82bddf135bfad1d3f91b52cd0cadb62e55db964b",
        "execution": {
          "iopub.status.busy": "2023-05-30T13:36:59.339191Z",
          "iopub.execute_input": "2023-05-30T13:36:59.339522Z",
          "iopub.status.idle": "2023-05-30T13:36:59.595246Z",
          "shell.execute_reply.started": "2023-05-30T13:36:59.339469Z",
          "shell.execute_reply": "2023-05-30T13:36:59.594446Z"
        },
        "trusted": true,
        "id": "ljKCdpNRp1nd"
      },
      "execution_count": null,
      "outputs": []
    },
    {
      "cell_type": "markdown",
      "source": [
        "# 3. CNN\n",
        "## 3.1 Define the model"
      ],
      "metadata": {
        "id": "hkZMrZTgp1nd"
      }
    },
    {
      "cell_type": "markdown",
      "source": [],
      "metadata": {
        "id": "p0H9fDmJp1nd"
      }
    },
    {
      "cell_type": "markdown",
      "source": [
        "**Model Definition**"
      ],
      "metadata": {
        "_uuid": "57904be2d2935cece025811c128ca6738cf86800",
        "id": "dI80Ue2xp1nd"
      }
    },
    {
      "cell_type": "code",
      "source": [
        "# Change the layers of the model\n",
        "# Add padding and strides wherever required\n",
        "\n",
        "model=Sequential()\n",
        "\n",
        "model.add(Conv2D(filters=64, kernel_size = (3,3), activation=\"relu\", input_shape=(28,28,1)))\n",
        "model.add(Conv2D(filters=64, kernel_size = (3,3), activation=\"relu\"))\n",
        "model.add(MaxPooling2D(pool_size=(2,2)))\n",
        "model.add(BatchNormalization())\n",
        "\n",
        "model.add(Conv2D(filters=128, kernel_size = (3,3), activation=\"relu\"))\n",
        "model.add(Conv2D(filters=128, kernel_size = (3,3), activation=\"relu\"))\n",
        "model.add(MaxPooling2D(pool_size=(2,2)))\n",
        "model.add(BatchNormalization())\n",
        "\n",
        "model.add(Conv2D(filters=256, kernel_size = (3,3), activation=\"relu\"))\n",
        "model.add(MaxPooling2D(pool_size=(2,2)))\n",
        "model.add(BatchNormalization())\n",
        "\n",
        "model.add(Flatten())\n",
        "model.add(Dense(512,activation=\"relu\"))\n",
        "\n",
        "model.add(Dense(10,activation=\"softmax\"))\n",
        "\n",
        "model.compile(loss=\"categorical_crossentropy\", optimizer=\"adam\", metrics=[\"accuracy\"])"
      ],
      "metadata": {
        "_uuid": "e935c979b0715a68bc8739e6a31f5d9a8189a750",
        "execution": {
          "iopub.status.busy": "2023-05-30T13:37:03.545614Z",
          "iopub.execute_input": "2023-05-30T13:37:03.545937Z",
          "iopub.status.idle": "2023-05-30T13:37:05.671867Z",
          "shell.execute_reply.started": "2023-05-30T13:37:03.545879Z",
          "shell.execute_reply": "2023-05-30T13:37:05.671134Z"
        },
        "trusted": true,
        "id": "eFoBK3uGp1nd"
      },
      "execution_count": null,
      "outputs": []
    },
    {
      "cell_type": "code",
      "source": [
        "model.summary()"
      ],
      "metadata": {
        "execution": {
          "iopub.status.busy": "2023-05-30T13:37:06.398974Z",
          "iopub.execute_input": "2023-05-30T13:37:06.399326Z",
          "iopub.status.idle": "2023-05-30T13:37:06.412585Z",
          "shell.execute_reply.started": "2023-05-30T13:37:06.399271Z",
          "shell.execute_reply": "2023-05-30T13:37:06.411233Z"
        },
        "trusted": true,
        "colab": {
          "base_uri": "https://localhost:8080/"
        },
        "id": "1fPtpp92p1ne",
        "outputId": "b100afb9-b2f9-48cd-f940-1245bba61a4a"
      },
      "execution_count": null,
      "outputs": [
        {
          "output_type": "stream",
          "name": "stdout",
          "text": [
            "Model: \"sequential\"\n",
            "_________________________________________________________________\n",
            " Layer (type)                Output Shape              Param #   \n",
            "=================================================================\n",
            " conv2d (Conv2D)             (None, 26, 26, 64)        640       \n",
            "                                                                 \n",
            " conv2d_1 (Conv2D)           (None, 24, 24, 64)        36928     \n",
            "                                                                 \n",
            " max_pooling2d (MaxPooling2D  (None, 12, 12, 64)       0         \n",
            " )                                                               \n",
            "                                                                 \n",
            " batch_normalization (BatchN  (None, 12, 12, 64)       256       \n",
            " ormalization)                                                   \n",
            "                                                                 \n",
            " conv2d_2 (Conv2D)           (None, 10, 10, 128)       73856     \n",
            "                                                                 \n",
            " conv2d_3 (Conv2D)           (None, 8, 8, 128)         147584    \n",
            "                                                                 \n",
            " max_pooling2d_1 (MaxPooling  (None, 4, 4, 128)        0         \n",
            " 2D)                                                             \n",
            "                                                                 \n",
            " batch_normalization_1 (Batc  (None, 4, 4, 128)        512       \n",
            " hNormalization)                                                 \n",
            "                                                                 \n",
            " conv2d_4 (Conv2D)           (None, 2, 2, 256)         295168    \n",
            "                                                                 \n",
            " max_pooling2d_2 (MaxPooling  (None, 1, 1, 256)        0         \n",
            " 2D)                                                             \n",
            "                                                                 \n",
            " batch_normalization_2 (Batc  (None, 1, 1, 256)        1024      \n",
            " hNormalization)                                                 \n",
            "                                                                 \n",
            " flatten (Flatten)           (None, 256)               0         \n",
            "                                                                 \n",
            " dense (Dense)               (None, 512)               131584    \n",
            "                                                                 \n",
            " dense_1 (Dense)             (None, 10)                5130      \n",
            "                                                                 \n",
            "=================================================================\n",
            "Total params: 692,682\n",
            "Trainable params: 691,786\n",
            "Non-trainable params: 896\n",
            "_________________________________________________________________\n"
          ]
        }
      ]
    },
    {
      "cell_type": "markdown",
      "source": [
        "## 3.3 Model training"
      ],
      "metadata": {
        "_uuid": "5a9a1f37ef33b24887f97e7992b7d24567602eb8",
        "id": "FY_R4fpXp1nf"
      }
    },
    {
      "cell_type": "code",
      "source": [
        "model.fit(X, y, batch_size=128, validation_split=0.2, epochs=10) # Change the batch_size and epochs\n",
        "# Number of images in X = 42000\n",
        "# Validation split = 20%, so the number of images undergoing training = 80% * 42000 = 33600 = 263 * 128"
      ],
      "metadata": {
        "execution": {
          "iopub.status.busy": "2023-05-30T13:37:45.843235Z",
          "iopub.execute_input": "2023-05-30T13:37:45.843554Z",
          "iopub.status.idle": "2023-05-30T13:38:29.115977Z",
          "shell.execute_reply.started": "2023-05-30T13:37:45.843496Z",
          "shell.execute_reply": "2023-05-30T13:38:29.115291Z"
        },
        "trusted": true,
        "colab": {
          "base_uri": "https://localhost:8080/"
        },
        "id": "cCT1Sbqrp1nf",
        "outputId": "b0fb59b1-96fc-4cf8-acef-77abd2cd9d65"
      },
      "execution_count": null,
      "outputs": [
        {
          "output_type": "stream",
          "name": "stdout",
          "text": [
            "Epoch 1/10\n",
            "263/263 [==============================] - 194s 730ms/step - loss: 0.1085 - accuracy: 0.9672 - val_loss: 1.6322 - val_accuracy: 0.4974\n",
            "Epoch 2/10\n",
            "263/263 [==============================] - 180s 684ms/step - loss: 0.0356 - accuracy: 0.9890 - val_loss: 0.0624 - val_accuracy: 0.9805\n",
            "Epoch 3/10\n",
            "263/263 [==============================] - 181s 688ms/step - loss: 0.0242 - accuracy: 0.9924 - val_loss: 0.0447 - val_accuracy: 0.9869\n",
            "Epoch 4/10\n",
            "263/263 [==============================] - 183s 696ms/step - loss: 0.0204 - accuracy: 0.9932 - val_loss: 0.0520 - val_accuracy: 0.9869\n",
            "Epoch 5/10\n",
            "263/263 [==============================] - 181s 689ms/step - loss: 0.0176 - accuracy: 0.9944 - val_loss: 0.0408 - val_accuracy: 0.9896\n",
            "Epoch 6/10\n",
            "263/263 [==============================] - 180s 686ms/step - loss: 0.0133 - accuracy: 0.9960 - val_loss: 0.0484 - val_accuracy: 0.9885\n",
            "Epoch 7/10\n",
            "263/263 [==============================] - 180s 686ms/step - loss: 0.0108 - accuracy: 0.9963 - val_loss: 0.0607 - val_accuracy: 0.9870\n",
            "Epoch 8/10\n",
            "263/263 [==============================] - 181s 688ms/step - loss: 0.0110 - accuracy: 0.9966 - val_loss: 0.2407 - val_accuracy: 0.9569\n",
            "Epoch 9/10\n",
            "263/263 [==============================] - 182s 690ms/step - loss: 0.0123 - accuracy: 0.9959 - val_loss: 0.0530 - val_accuracy: 0.9873\n",
            "Epoch 10/10\n",
            "263/263 [==============================] - 181s 690ms/step - loss: 0.0147 - accuracy: 0.9954 - val_loss: 0.0547 - val_accuracy: 0.9892\n"
          ]
        },
        {
          "output_type": "execute_result",
          "data": {
            "text/plain": [
              "<keras.callbacks.History at 0x7fee5991e2c0>"
            ]
          },
          "metadata": {},
          "execution_count": 15
        }
      ]
    },
    {
      "cell_type": "markdown",
      "source": [
        "## 4.2 Confusion matrix"
      ],
      "metadata": {
        "id": "487sAxmxp1ns"
      }
    },
    {
      "cell_type": "code",
      "source": [
        "fig = plt.figure(figsize=(10, 10)) # Set Figure\n",
        "\n",
        "y_pred = model.predict(X_test) # Predict class probabilities as 2 => [0.1, 0, 0.9, 0, 0, 0, 0, 0, 0, 0]\n",
        "\n",
        "Y_pred = np.argmax(y_pred, 1) # Decode Predicted labels\n",
        "Y_test = np.argmax(y_test, 1) # Decode labels\n",
        "\n",
        "mat = confusion_matrix(Y_test, Y_pred) # Confusion matrix\n",
        "\n",
        "# Plot Confusion matrix\n",
        "sns.heatmap(mat.T, square=True, annot=True, cbar=False, cmap=plt.cm.Blues, fmt='.0f')\n",
        "plt.xlabel('Predicted Values')\n",
        "plt.ylabel('True Values');\n",
        "plt.show();"
      ],
      "metadata": {
        "execution": {
          "iopub.status.busy": "2023-05-30T13:40:11.698887Z",
          "iopub.execute_input": "2023-05-30T13:40:11.699266Z",
          "iopub.status.idle": "2023-05-30T13:40:12.734065Z",
          "shell.execute_reply.started": "2023-05-30T13:40:11.699203Z",
          "shell.execute_reply": "2023-05-30T13:40:12.733311Z"
        },
        "trusted": true,
        "id": "xjjyQgq7p1ns",
        "colab": {
          "base_uri": "https://localhost:8080/",
          "height": 867
        },
        "outputId": "173c56c4-a28c-4294-af7c-610de98f2b09"
      },
      "execution_count": null,
      "outputs": [
        {
          "output_type": "stream",
          "name": "stdout",
          "text": [
            "132/132 [==============================] - 5s 36ms/step\n"
          ]
        },
        {
          "output_type": "display_data",
          "data": {
            "text/plain": [
              "<Figure size 1000x1000 with 1 Axes>"
            ],
            "image/png": "[encoded data removed]"
          },
          "metadata": {}
        }
      ]
    },
    {
      "cell_type": "markdown",
      "source": [
        "# 5. Prediction and submission\n",
        "\n",
        "\n"
      ],
      "metadata": {
        "id": "CB3OhcGhp1nt"
      }
    },
    {
      "cell_type": "markdown",
      "source": [
        "## 5.1 Prediction validation results"
      ],
      "metadata": {
        "id": "YY4ZwwcAp1nt"
      }
    },
    {
      "cell_type": "code",
      "source": [
        "y_pred = model.predict(X_test)\n",
        "X_val__ = X_test.reshape(X_test.shape[0], 28, 28)\n",
        "\n",
        "fig, axis = plt.subplots(4, 4, figsize=(12, 14))\n",
        "for i, ax in enumerate(axis.flat):\n",
        "    ax.imshow(X_val__[i], cmap='binary')\n",
        "    ax.set(title = f\"Real Number is {y_test[i].argmax()}\\nPredict Number is {y_pred[i].argmax()}\");"
      ],
      "metadata": {
        "execution": {
          "iopub.status.busy": "2023-05-30T13:40:17.596620Z",
          "iopub.execute_input": "2023-05-30T13:40:17.596966Z",
          "iopub.status.idle": "2023-05-30T13:40:20.645239Z",
          "shell.execute_reply.started": "2023-05-30T13:40:17.596905Z",
          "shell.execute_reply": "2023-05-30T13:40:20.644132Z"
        },
        "trusted": true,
        "id": "ph8MbAPXp1nt",
        "colab": {
          "base_uri": "https://localhost:8080/",
          "height": 1000
        },
        "outputId": "bae425de-0940-4f5f-d9cc-abf2c6695ad4"
      },
      "execution_count": null,
      "outputs": [
        {
          "output_type": "stream",
          "name": "stdout",
          "text": [
            "132/132 [==============================] - 5s 41ms/step\n"
          ]
        },
        {
          "output_type": "display_data",
          "data": {
            "text/plain": [
              "<Figure size 1200x1400 with 16 Axes>"
            ],
            "image/png": "[encoded data removed]"
          },
          "metadata": {}
        }
      ]
    },
    {
      "cell_type": "markdown",
      "source": [
        "## 5.2 Submission"
      ],
      "metadata": {
        "id": "eLJZsp2Xp1nt"
      }
    },
    {
      "cell_type": "code",
      "source": [
        "# preprocess test data\n",
        "test_x = test.values\n",
        "test_x = test_x/255 # Normalize the activation values from [0,255] to [0,1]\n",
        "test_x = test_x.reshape(28000, 28,28, 1) # Reshape the test data from 3 RGB channels to a single grayscale channel\n",
        "\n",
        "# predict test data\n",
        "# pred = model.predict_classes(test_x, verbose=1)\n",
        "pred = np.argmax(model.predict(test_x) ,axis=1)"
      ],
      "metadata": {
        "_uuid": "afcacfa4a023a9e01a61b5d7dcd051f0a439fa38",
        "execution": {
          "iopub.status.busy": "2023-05-30T13:40:24.562230Z",
          "iopub.execute_input": "2023-05-30T13:40:24.562570Z",
          "iopub.status.idle": "2023-05-30T13:40:26.270899Z",
          "shell.execute_reply.started": "2023-05-30T13:40:24.562508Z",
          "shell.execute_reply": "2023-05-30T13:40:26.270114Z"
        },
        "trusted": true,
        "id": "_Z2msJpfp1nu",
        "colab": {
          "base_uri": "https://localhost:8080/"
        },
        "outputId": "3395f34b-85a9-4545-8b05-76c0b5f3eccc"
      },
      "execution_count": null,
      "outputs": [
        {
          "output_type": "stream",
          "name": "stdout",
          "text": [
            "875/875 [==============================] - 34s 39ms/step\n"
          ]
        }
      ]
    },
    {
      "cell_type": "code",
      "source": [
        "# submissions\n",
        "sub['Label'] = pred\n",
        "sub.to_csv(\"CNN_keras_sub.csv\", index=False)\n",
        "sub.head()"
      ],
      "metadata": {
        "execution": {
          "iopub.status.busy": "2023-05-30T13:40:29.474277Z",
          "iopub.execute_input": "2023-05-30T13:40:29.474616Z",
          "iopub.status.idle": "2023-05-30T13:40:29.785340Z",
          "shell.execute_reply.started": "2023-05-30T13:40:29.474556Z",
          "shell.execute_reply": "2023-05-30T13:40:29.783507Z"
        },
        "trusted": true,
        "id": "01if6yhqp1nu",
        "colab": {
          "base_uri": "https://localhost:8080/",
          "height": 206
        },
        "outputId": "f78340f7-abe9-4034-ebdf-e0ed8921f64a"
      },
      "execution_count": null,
      "outputs": [
        {
          "output_type": "execute_result",
          "data": {
            "text/plain": [
              "   ImageId  Label\n",
              "0        1      2\n",
              "1        2      0\n",
              "2        3      9\n",
              "3        4      9\n",
              "4        5      3"
            ],
            "text/html": [
              "\n",
              "  <div id=\"df-0ab6b38e-d300-460e-b2bf-c54a7130dda3\">\n",
              "    <div class=\"colab-df-container\">\n",
              "      <div>\n",
              "<style scoped>\n",
              "    .dataframe tbody tr th:only-of-type {\n",
              "        vertical-align: middle;\n",
              "    }\n",
              "\n",
              "    .dataframe tbody tr th {\n",
              "        vertical-align: top;\n",
              "    }\n",
              "\n",
              "    .dataframe thead th {\n",
              "        text-align: right;\n",
              "    }\n",
              "</style>\n",
              "<table border=\"1\" class=\"dataframe\">\n",
              "  <thead>\n",
              "    <tr style=\"text-align: right;\">\n",
              "      <th></th>\n",
              "      <th>ImageId</th>\n",
              "      <th>Label</th>\n",
              "    </tr>\n",
              "  </thead>\n",
              "  <tbody>\n",
              "    <tr>\n",
              "      <th>0</th>\n",
              "      <td>1</td>\n",
              "      <td>2</td>\n",
              "    </tr>\n",
              "    <tr>\n",
              "      <th>1</th>\n",
              "      <td>2</td>\n",
              "      <td>0</td>\n",
              "    </tr>\n",
              "    <tr>\n",
              "      <th>2</th>\n",
              "      <td>3</td>\n",
              "      <td>9</td>\n",
              "    </tr>\n",
              "    <tr>\n",
              "      <th>3</th>\n",
              "      <td>4</td>\n",
              "      <td>9</td>\n",
              "    </tr>\n",
              "    <tr>\n",
              "      <th>4</th>\n",
              "      <td>5</td>\n",
              "      <td>3</td>\n",
              "    </tr>\n",
              "  </tbody>\n",
              "</table>\n",
              "</div>\n",
              "      <button class=\"colab-df-convert\" onclick=\"convertToInteractive('df-0ab6b38e-d300-460e-b2bf-c54a7130dda3')\"\n",
              "              title=\"Convert this dataframe to an interactive table.\"\n",
              "              style=\"display:none;\">\n",
              "        \n",
              "  <svg xmlns=\"http://www.w3.org/2000/svg\" height=\"24px\"viewBox=\"0 0 24 24\"\n",
              "       width=\"24px\">\n",
              "    <path d=\"M0 0h24v24H0V0z\" fill=\"none\"/>\n",
              "    <path d=\"M18.56 5.44l.94 2.06.94-2.06 2.06-.94-2.06-.94-.94-2.06-.94 2.06-2.06.94zm-11 1L8.5 8.5l.94-2.06 2.06-.94-2.06-.94L8.5 2.5l-.94 2.06-2.06.94zm10 10l.94 2.06.94-2.06 2.06-.94-2.06-.94-.94-2.06-.94 2.06-2.06.94z\"/><path d=\"M17.41 7.96l-1.37-1.37c-.4-.4-.92-.59-1.43-.59-.52 0-1.04.2-1.43.59L10.3 9.45l-7.72 7.72c-.78.78-.78 2.05 0 2.83L4 21.41c.39.39.9.59 1.41.59.51 0 1.02-.2 1.41-.59l7.78-7.78 2.81-2.81c.8-.78.8-2.07 0-2.86zM5.41 20L4 18.59l7.72-7.72 1.47 1.35L5.41 20z\"/>\n",
              "  </svg>\n",
              "      </button>\n",
              "      \n",
              "  <style>\n",
              "    .colab-df-container {\n",
              "      display:flex;\n",
              "      flex-wrap:wrap;\n",
              "      gap: 12px;\n",
              "    }\n",
              "\n",
              "    .colab-df-convert {\n",
              "      background-color: #E8F0FE;\n",
              "      border: none;\n",
              "      border-radius: 50%;\n",
              "      cursor: pointer;\n",
              "      display: none;\n",
              "      fill: #1967D2;\n",
              "      height: 32px;\n",
              "      padding: 0 0 0 0;\n",
              "      width: 32px;\n",
              "    }\n",
              "\n",
              "    .colab-df-convert:hover {\n",
              "      background-color: #E2EBFA;\n",
              "      box-shadow: 0px 1px 2px rgba(60, 64, 67, 0.3), 0px 1px 3px 1px rgba(60, 64, 67, 0.15);\n",
              "      fill: #174EA6;\n",
              "    }\n",
              "\n",
              "    [theme=dark] .colab-df-convert {\n",
              "      background-color: #3B4455;\n",
              "      fill: #D2E3FC;\n",
              "    }\n",
              "\n",
              "    [theme=dark] .colab-df-convert:hover {\n",
              "      background-color: #434B5C;\n",
              "      box-shadow: 0px 1px 3px 1px rgba(0, 0, 0, 0.15);\n",
              "      filter: drop-shadow(0px 1px 2px rgba(0, 0, 0, 0.3));\n",
              "      fill: #FFFFFF;\n",
              "    }\n",
              "  </style>\n",
              "\n",
              "      <script>\n",
              "        const buttonEl =\n",
              "          document.querySelector('#df-0ab6b38e-d300-460e-b2bf-c54a7130dda3 button.colab-df-convert');\n",
              "        buttonEl.style.display =\n",
              "          google.colab.kernel.accessAllowed ? 'block' : 'none';\n",
              "\n",
              "        async function convertToInteractive(key) {\n",
              "          const element = document.querySelector('#df-0ab6b38e-d300-460e-b2bf-c54a7130dda3');\n",
              "          const dataTable =\n",
              "            await google.colab.kernel.invokeFunction('convertToInteractive',\n",
              "                                                     [key], {});\n",
              "          if (!dataTable) return;\n",
              "\n",
              "          const docLinkHtml = 'Like what you see? Visit the ' +\n",
              "            '<a target=\"_blank\" href=https://colab.research.google.com/notebooks/data_table.ipynb>data table notebook</a>'\n",
              "            + ' to learn more about interactive tables.';\n",
              "          element.innerHTML = '';\n",
              "          dataTable['output_type'] = 'display_data';\n",
              "          await google.colab.output.renderOutput(dataTable, element);\n",
              "          const docLink = document.createElement('div');\n",
              "          docLink.innerHTML = docLinkHtml;\n",
              "          element.appendChild(docLink);\n",
              "        }\n",
              "      </script>\n",
              "    </div>\n",
              "  </div>\n",
              "  "
            ]
          },
          "metadata": {},
          "execution_count": 19
        }
      ]
    },
    {
      "cell_type": "code",
      "source": [],
      "metadata": {
        "id": "0-BWqt7KlzYJ"
      },
      "execution_count": null,
      "outputs": []
    }
  ]
}